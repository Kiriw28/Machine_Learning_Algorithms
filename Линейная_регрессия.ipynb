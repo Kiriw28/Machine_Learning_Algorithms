{
  "nbformat": 4,
  "nbformat_minor": 0,
  "metadata": {
    "colab": {
      "provenance": []
    },
    "kernelspec": {
      "name": "python3",
      "display_name": "Python 3"
    },
    "language_info": {
      "name": "python"
    }
  },
  "cells": [
    {
      "cell_type": "code",
      "execution_count": 7,
      "metadata": {
        "id": "uI_dX7bbS20y"
      },
      "outputs": [],
      "source": [
        "import math\n",
        "\n",
        "# Линейная регрессия: y = w*x + b\n",
        "class LinearRegression:\n",
        "    def __init__(self):\n",
        "        self.w = 0\n",
        "        self.b = 0\n",
        "\n",
        "    def fit(self, X, y):\n",
        "        \"\"\"\n",
        "        Обучение методом наименьших квадратов (формулы для простой линейной регрессии).\n",
        "        X и y — списки чисел одинаковой длины.\n",
        "        Оптимизировано: все суммы считаются за один проход по данным.\n",
        "        \"\"\"\n",
        "        n = len(X)\n",
        "\n",
        "        sum_x = sum_y = sum_xy = sum_x2 = 0\n",
        "        for i in range(n):\n",
        "            sum_x += X[i]\n",
        "            sum_y += y[i]\n",
        "            sum_xy += X[i] * y[i]\n",
        "            sum_x2 += X[i] ** 2\n",
        "\n",
        "        denominator = n * sum_x2 - sum_x ** 2\n",
        "        if denominator == 0:\n",
        "            # случай, когда все X одинаковые (модель не обучаема)\n",
        "            self.w = 0\n",
        "            self.b = sum_y / n\n",
        "        else:\n",
        "            self.w = (n * sum_xy - sum_x * sum_y) / denominator\n",
        "            self.b = (sum_y - self.w * sum_x) / n\n",
        "\n",
        "    def predict(self, X):\n",
        "        \"\"\"\n",
        "        Получение предсказаний для списка X.\n",
        "        \"\"\"\n",
        "        return [self.w * x + self.b for x in X]\n",
        "\n",
        "    def score_MSE(self, X, y):\n",
        "        \"\"\"\n",
        "        MSE метрика для оценки качества модели.\n",
        "        \"\"\"\n",
        "        n = len(X)\n",
        "        y_pred = self.predict(X)\n",
        "\n",
        "        total_difference = sum((y[i] - y_pred[i]) ** 2 for i in range(n))\n",
        "        return total_difference/n\n",
        "\n",
        "    def score_R2(self, X, y):\n",
        "        \"\"\"\n",
        "        R^2 метрика для оценки качества модели.\n",
        "        \"\"\"\n",
        "        n = len(X)\n",
        "        y_pred = self.predict(X)\n",
        "        mean_y = sum(y) / len(y)\n",
        "\n",
        "        ss_total = sum((yi - mean_y) ** 2 for yi in y)\n",
        "        ss_residual = sum((y[i] - y_pred[i]) ** 2 for i in range(n))\n",
        "\n",
        "        return 1 - ss_residual / ss_total if ss_total != 0 else 0\n",
        "\n",
        "\n",
        "\n"
      ]
    },
    {
      "cell_type": "code",
      "source": [
        "# Пример использования\n",
        "if __name__ == \"__main__\":\n",
        "    # Данные (X — площадь квартиры, y — цена)\n",
        "    X = [40, 50, 60, 70, 80]\n",
        "    y = [200, 240, 280, 310, 360]\n",
        "\n",
        "    model = LinearRegression()\n",
        "    model.fit(X, y)\n",
        "\n",
        "    print(\"w (наклон):\", model.w)\n",
        "    print(\"b (свободный член):\", model.b)\n",
        "\n",
        "    X_test = [52, 65, 85]\n",
        "    predictions = model.predict(X_test)\n",
        "    print(\"Предсказания:\", predictions)\n",
        "\n",
        "    print(\"MSE на обучении:\", model.score_MSE(X, y))\n",
        "    print(\"R^2 на обучении:\", model.score_R2(X, y))"
      ],
      "metadata": {
        "colab": {
          "base_uri": "https://localhost:8080/"
        },
        "id": "HhwlL1Y3pd33",
        "outputId": "87e34c6d-f814-4586-8d2f-8c9eb9c151a0"
      },
      "execution_count": 9,
      "outputs": [
        {
          "output_type": "stream",
          "name": "stdout",
          "text": [
            "w (наклон): 3.9\n",
            "b (свободный член): 44.0\n",
            "Предсказания: [246.79999999999998, 297.5, 375.5]\n",
            "MSE на обучении: 14.0\n",
            "R^2 на обучении: 0.9954188481675392\n"
          ]
        }
      ]
    }
  ]
}